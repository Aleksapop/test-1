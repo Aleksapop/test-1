{
 "cells": [
  {
   "cell_type": "code",
   "execution_count": 3,
   "id": "1175cc57-b91e-490a-9bce-fadb596ca7d6",
   "metadata": {},
   "outputs": [
    {
     "name": "stdout",
     "output_type": "stream",
     "text": [
      "19.0\n",
      "Zovem se aleksa\n"
     ]
    }
   ],
   "source": [
    "a = 9.5 * 2\n",
    "print(a)\n",
    "print(\"Zovem se aleksa\")"
   ]
  }
 ],
 "metadata": {
  "kernelspec": {
   "display_name": "Python [conda env:base] *",
   "language": "python",
   "name": "conda-base-py"
  },
  "language_info": {
   "codemirror_mode": {
    "name": "ipython",
    "version": 3
   },
   "file_extension": ".py",
   "mimetype": "text/x-python",
   "name": "python",
   "nbconvert_exporter": "python",
   "pygments_lexer": "ipython3",
   "version": "3.13.5"
  }
 },
 "nbformat": 4,
 "nbformat_minor": 5
}
